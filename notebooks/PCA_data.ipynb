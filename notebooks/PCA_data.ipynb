{
 "cells": [
  {
   "cell_type": "code",
   "execution_count": 1,
   "id": "3e608270-128a-4771-927c-668451a52516",
   "metadata": {},
   "outputs": [],
   "source": [
    "import pandas as pd\n",
    "import bsa_utils"
   ]
  },
  {
   "cell_type": "code",
   "execution_count": 2,
   "id": "a11da267-ef60-4181-ad34-78c4a71de796",
   "metadata": {},
   "outputs": [
    {
     "name": "stdout",
     "output_type": "stream",
     "text": [
      "23362\n",
      "25521\n",
      "consolidated-pharmaceutical-list\n",
      "contractor-details\n",
      "dental-activity-delivered-by-newly-qualified-foundation-dentists\n",
      "dispensing-practice-name-and-address\n",
      "english-contractor-monthly-general-dental-activity\n",
      "english-contractor-monthly-general-dental-and-orthodontic-contractual-dataset\n",
      "english-contractor-monthly-orthodontic-activity\n",
      "english-prescribing-data-epd\n",
      "english-prescribing-dataset-epd-with-snomed-code\n",
      "hormone-replacement-therapy-prescription-prepayment-certificate-hrt-ppc-volumes\n",
      "hospital-prescribing-dispensed-in-the-community\n",
      "immigration-health-surcharge-ihs-health-and-care-reimbursement-scheme-performance-data\n",
      "immigration-health-surcharge-ihs-students-reimbursement-scheme-performance-data\n",
      "national-uda-by-performer-for-financial-years-2016-2024\n",
      "nhsbsa-commercial-pipeline\n",
      "opendata-nhsbsa-net-dataset-foi-25455\n",
      "open-data-portal-usage\n",
      "pharmacy-contract-fp57-refunds\n",
      "pharmacy-openings-and-closures\n",
      "pharmacy-quality-scheme-data-2022-23\n",
      "prescriber-details\n",
      "prescription-cost-analysis-pca-annual-statistics\n",
      "prescription-cost-analysis-pca-monthly-data\n",
      "regional-uda-by-performer\n",
      "secondary-care-medicines-data\n",
      "secondary-care-medicines-data-indicative-price\n"
     ]
    }
   ],
   "source": [
    "bsa_utils.show_available_datasets()"
   ]
  },
  {
   "cell_type": "code",
   "execution_count": 3,
   "id": "baf0ef95-fa18-4eac-9212-936220dd5485",
   "metadata": {},
   "outputs": [
    {
     "name": "stdout",
     "output_type": "stream",
     "text": [
      "All API calls ran successfully\n"
     ]
    }
   ],
   "source": [
    "dataset_id = \"prescription-cost-analysis-pca-monthly-data\" # Dateset ID\n",
    "date_from = \"202402\" # Can be either \"YYYYMM\" or \"earliest\", default=\"earliest\"\n",
    "date_to = \"\" # Can be either \"YYYYMM\" or \"latest\", default=\"latest\"\n",
    "sql = (\n",
    "    \"SELECT * \"\n",
    "    \"{FROM_TABLE} \"\n",
    "    \"WHERE PHARMACY_ADVANCED_SERVICE = 'Pharmacy First Clinical Pathways'\"\n",
    ")\n",
    "\n",
    "# Fetch data using BSA API\n",
    "df=bsa_utils.fetch_data(resource=dataset_id, date_from=date_from, date_to=date_to, sql=sql)\n",
    "\n",
    "# Save data to file\n",
    "df.to_csv(\"../data/pca_data.csv\", index=False)"
   ]
  },
  {
   "cell_type": "code",
   "execution_count": null,
   "id": "84e3dcac-8508-4180-b9f5-7754d5ac5361",
   "metadata": {},
   "outputs": [],
   "source": []
  }
 ],
 "metadata": {
  "kernelspec": {
   "display_name": "Python 3 (ipykernel)",
   "language": "python",
   "name": "python3"
  },
  "language_info": {
   "codemirror_mode": {
    "name": "ipython",
    "version": 3
   },
   "file_extension": ".py",
   "mimetype": "text/x-python",
   "name": "python",
   "nbconvert_exporter": "python",
   "pygments_lexer": "ipython3",
   "version": "3.12.5"
  }
 },
 "nbformat": 4,
 "nbformat_minor": 5
}
